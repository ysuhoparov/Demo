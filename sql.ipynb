{
  "nbformat": 4,
  "nbformat_minor": 0,
  "metadata": {
    "colab": {
      "name": "sql.ipynb",
      "provenance": [],
      "collapsed_sections": [],
      "include_colab_link": true
    },
    "kernelspec": {
      "name": "python2",
      "display_name": "Python 2"
    }
  },
  "cells": [
    {
      "cell_type": "markdown",
      "metadata": {
        "id": "view-in-github",
        "colab_type": "text"
      },
      "source": [
        "<a href=\"https://colab.research.google.com/github/SuhoparovYD/Demo/blob/master/sql.ipynb\" target=\"_parent\"><img src=\"https://colab.research.google.com/assets/colab-badge.svg\" alt=\"Open In Colab\"/></a>"
      ]
    },
    {
      "cell_type": "markdown",
      "metadata": {
        "id": "Vi5vWuP-BV0u"
      },
      "source": [
        "# Небольшое автотранспортное предприятие\n",
        "\n",
        "\n",
        "*   Производственный отдел:  - водители, механики\n",
        "*   \n",
        "\n",
        "\n",
        "*   Отдел маркетинга: - заключение договоров с заказчиками, поиск заказчиков\n",
        "*   Витрина  - кол-во договоров, выручка по договорам\n",
        "*   \n",
        "\n",
        "*   Отдел реализации: - исполнение договоров, учет поездок\n",
        "*   Витрина  - кол-во поездок,  оплата\n",
        "*   \n",
        "\n",
        "\n",
        "*   Поездки оплачиваются заказчиками в зависимости от пункта назначения, вида груза, выделенного автомобиля.\n",
        "\n"
      ]
    },
    {
      "cell_type": "markdown",
      "metadata": {
        "id": "cnHPCw8z8Nr2"
      },
      "source": [
        "# Создание базы"
      ]
    },
    {
      "cell_type": "code",
      "metadata": {
        "id": "z1JHBv4HaPu-"
      },
      "source": [
        "from sqlalchemy import create_engine\n",
        "import os\n",
        "import pandas as pd\n",
        "\n",
        "if os.path.exists(\"some.db\"):  os.remove(\"some.db\")\n",
        "e = create_engine(\"sqlite:///some.db\")"
      ],
      "execution_count": null,
      "outputs": []
    },
    {
      "cell_type": "code",
      "metadata": {
        "colab": {
          "base_uri": "https://localhost:8080/"
        },
        "id": "ZgIGU1WYei6j",
        "outputId": "c5558d92-f556-4e51-b120-24923414abc4"
      },
      "source": [
        "e.execute(\"\"\"\n",
        "  CREATE TABLE Customers (\n",
        "    id integer primary key,\n",
        "    name varchar(255) NOT NULL,\n",
        "    address varchar(255) NOT NULL,\n",
        "    contact TEXT NOT NULL,\n",
        "    tel TEXT NOT NULL,\n",
        "    last_handling DATE\n",
        "    )\n",
        "\"\"\")  "
      ],
      "execution_count": null,
      "outputs": [
        {
          "output_type": "execute_result",
          "data": {
            "text/plain": [
              "<sqlalchemy.engine.result.ResultProxy at 0x7f52d77367d0>"
            ]
          },
          "metadata": {},
          "execution_count": 15
        }
      ]
    },
    {
      "cell_type": "code",
      "metadata": {
        "colab": {
          "base_uri": "https://localhost:8080/",
          "height": 235
        },
        "id": "i7d5aoa_fI3K",
        "outputId": "81be3d55-937d-4f82-fc28-5dff58883e75"
      },
      "source": [
        "e.execute(\"\"\"insert into Customers(name,address,contact,tel ) values ('Блинная',\"ул.Правды 3\",\"Сонечка\",\"25-36-27\")\"\"\")\n",
        "e.execute(\"\"\"insert into Customers(name,address,contact,tel ) values ('маг. Канцтовары',\"ул.Советов 8\",\"Манечка\",\"25-36-27\")\"\"\")\n",
        "e.execute(\"\"\"insert into Customers(name,address,contact,tel ) values ('Сладкоежка',\"ул.Перова 1\",\"Дуня\",\"25-36-27\")\"\"\")\n",
        "e.execute(\"\"\"insert into Customers(name,address,contact,tel ) values ('маг. Пилот',\"ул.Кирова 8\",\"Михалыч\",\"25-36-27\")\"\"\")\n",
        "e.execute(\"\"\"insert into Customers(name,address,contact,tel ) values ('Мороженное',\"ул.Мира 7\",\"Лена\",\"25-36-27\")\"\"\")\n",
        "e.execute(\"\"\"insert into Customers(name,address,contact,tel ) values ('Оптовичок',\"ул.Серовав 9\",\"Кузьмич\",\"25-36-27\")\"\"\")\n",
        "pd.read_sql_query('SELECT * FROM Customers;', e)"
      ],
      "execution_count": null,
      "outputs": [
        {
          "output_type": "execute_result",
          "data": {
            "text/plain": [
              "   id             name       address  contact       tel last_handling\n",
              "0   1          Блинная   ул.Правды 3  Сонечка  25-36-27          None\n",
              "1   2  маг. Канцтовары  ул.Советов 8  Манечка  25-36-27          None\n",
              "2   3       Сладкоежка   ул.Перова 1     Дуня  25-36-27          None\n",
              "3   4       маг. Пилот   ул.Кирова 8  Михалыч  25-36-27          None\n",
              "4   5       Мороженное     ул.Мира 7     Лена  25-36-27          None\n",
              "5   6        Оптовичок  ул.Серовав 9  Кузьмич  25-36-27          None"
            ],
            "text/html": [
              "<div>\n",
              "<style scoped>\n",
              "    .dataframe tbody tr th:only-of-type {\n",
              "        vertical-align: middle;\n",
              "    }\n",
              "\n",
              "    .dataframe tbody tr th {\n",
              "        vertical-align: top;\n",
              "    }\n",
              "\n",
              "    .dataframe thead th {\n",
              "        text-align: right;\n",
              "    }\n",
              "</style>\n",
              "<table border=\"1\" class=\"dataframe\">\n",
              "  <thead>\n",
              "    <tr style=\"text-align: right;\">\n",
              "      <th></th>\n",
              "      <th>id</th>\n",
              "      <th>name</th>\n",
              "      <th>address</th>\n",
              "      <th>contact</th>\n",
              "      <th>tel</th>\n",
              "      <th>last_handling</th>\n",
              "    </tr>\n",
              "  </thead>\n",
              "  <tbody>\n",
              "    <tr>\n",
              "      <th>0</th>\n",
              "      <td>1</td>\n",
              "      <td>Блинная</td>\n",
              "      <td>ул.Правды 3</td>\n",
              "      <td>Сонечка</td>\n",
              "      <td>25-36-27</td>\n",
              "      <td>None</td>\n",
              "    </tr>\n",
              "    <tr>\n",
              "      <th>1</th>\n",
              "      <td>2</td>\n",
              "      <td>маг. Канцтовары</td>\n",
              "      <td>ул.Советов 8</td>\n",
              "      <td>Манечка</td>\n",
              "      <td>25-36-27</td>\n",
              "      <td>None</td>\n",
              "    </tr>\n",
              "    <tr>\n",
              "      <th>2</th>\n",
              "      <td>3</td>\n",
              "      <td>Сладкоежка</td>\n",
              "      <td>ул.Перова 1</td>\n",
              "      <td>Дуня</td>\n",
              "      <td>25-36-27</td>\n",
              "      <td>None</td>\n",
              "    </tr>\n",
              "    <tr>\n",
              "      <th>3</th>\n",
              "      <td>4</td>\n",
              "      <td>маг. Пилот</td>\n",
              "      <td>ул.Кирова 8</td>\n",
              "      <td>Михалыч</td>\n",
              "      <td>25-36-27</td>\n",
              "      <td>None</td>\n",
              "    </tr>\n",
              "    <tr>\n",
              "      <th>4</th>\n",
              "      <td>5</td>\n",
              "      <td>Мороженное</td>\n",
              "      <td>ул.Мира 7</td>\n",
              "      <td>Лена</td>\n",
              "      <td>25-36-27</td>\n",
              "      <td>None</td>\n",
              "    </tr>\n",
              "    <tr>\n",
              "      <th>5</th>\n",
              "      <td>6</td>\n",
              "      <td>Оптовичок</td>\n",
              "      <td>ул.Серовав 9</td>\n",
              "      <td>Кузьмич</td>\n",
              "      <td>25-36-27</td>\n",
              "      <td>None</td>\n",
              "    </tr>\n",
              "  </tbody>\n",
              "</table>\n",
              "</div>"
            ]
          },
          "metadata": {},
          "execution_count": 16
        }
      ]
    },
    {
      "cell_type": "code",
      "metadata": {
        "id": "uQCOuUiUfI0Z"
      },
      "source": [
        ""
      ],
      "execution_count": null,
      "outputs": []
    },
    {
      "cell_type": "code",
      "metadata": {
        "colab": {
          "base_uri": "https://localhost:8080/"
        },
        "id": "fMihNaJyyukO",
        "outputId": "49bfa773-b53e-4108-f3e1-22acd2c20579"
      },
      "source": [
        "e.execute(\"\"\"\n",
        "    CREATE TABLE Departments (\n",
        "      id integer primary key,\n",
        "      name varchar(255) NOT NULL\n",
        "    )\n",
        "\"\"\")"
      ],
      "execution_count": null,
      "outputs": [
        {
          "output_type": "execute_result",
          "data": {
            "text/plain": [
              "<sqlalchemy.engine.result.ResultProxy at 0x7f52d7a48c10>"
            ]
          },
          "metadata": {},
          "execution_count": 17
        }
      ]
    },
    {
      "cell_type": "code",
      "metadata": {
        "colab": {
          "base_uri": "https://localhost:8080/",
          "height": 142
        },
        "id": "NuotLBLqy-Bl",
        "outputId": "e5109fbd-f66e-47d6-aee2-9259b3d6aa5f"
      },
      "source": [
        "e.execute(\"\"\"insert into Departments(name) values ('Маркетинг')\"\"\")\n",
        "e.execute(\"\"\"insert into Departments(name) values ('Продажи')\"\"\")\n",
        "e.execute(\"\"\"insert into Departments(name) values ('Производственный')\"\"\")\n",
        "\n",
        "pd.read_sql_query('SELECT * FROM Departments;', e)"
      ],
      "execution_count": null,
      "outputs": [
        {
          "output_type": "execute_result",
          "data": {
            "text/plain": [
              "   id              name\n",
              "0   1         Маркетинг\n",
              "1   2           Продажи\n",
              "2   3  Производственный"
            ],
            "text/html": [
              "<div>\n",
              "<style scoped>\n",
              "    .dataframe tbody tr th:only-of-type {\n",
              "        vertical-align: middle;\n",
              "    }\n",
              "\n",
              "    .dataframe tbody tr th {\n",
              "        vertical-align: top;\n",
              "    }\n",
              "\n",
              "    .dataframe thead th {\n",
              "        text-align: right;\n",
              "    }\n",
              "</style>\n",
              "<table border=\"1\" class=\"dataframe\">\n",
              "  <thead>\n",
              "    <tr style=\"text-align: right;\">\n",
              "      <th></th>\n",
              "      <th>id</th>\n",
              "      <th>name</th>\n",
              "    </tr>\n",
              "  </thead>\n",
              "  <tbody>\n",
              "    <tr>\n",
              "      <th>0</th>\n",
              "      <td>1</td>\n",
              "      <td>Маркетинг</td>\n",
              "    </tr>\n",
              "    <tr>\n",
              "      <th>1</th>\n",
              "      <td>2</td>\n",
              "      <td>Продажи</td>\n",
              "    </tr>\n",
              "    <tr>\n",
              "      <th>2</th>\n",
              "      <td>3</td>\n",
              "      <td>Производственный</td>\n",
              "    </tr>\n",
              "  </tbody>\n",
              "</table>\n",
              "</div>"
            ]
          },
          "metadata": {},
          "execution_count": 18
        }
      ]
    },
    {
      "cell_type": "code",
      "metadata": {
        "id": "7RQweVPK0YPU"
      },
      "source": [
        "#e.execute(\"\"\"\n",
        "#    drop table Employees   n\"\"\")"
      ],
      "execution_count": null,
      "outputs": []
    },
    {
      "cell_type": "code",
      "metadata": {
        "colab": {
          "base_uri": "https://localhost:8080/"
        },
        "id": "ZFTETAmXz6gn",
        "outputId": "a75a99d5-28f5-4efe-d7b1-d4919d950139"
      },
      "source": [
        "e.execute(\"\"\"\n",
        "    create table Employees (\n",
        "        id integer primary key,\n",
        "        fio varchar,\n",
        "        departmentId integer\n",
        "    )\n",
        "\"\"\")"
      ],
      "execution_count": null,
      "outputs": [
        {
          "output_type": "execute_result",
          "data": {
            "text/plain": [
              "<sqlalchemy.engine.result.ResultProxy at 0x7f52d7ad8f90>"
            ]
          },
          "metadata": {},
          "execution_count": 20
        }
      ]
    },
    {
      "cell_type": "code",
      "metadata": {
        "colab": {
          "base_uri": "https://localhost:8080/",
          "height": 328
        },
        "id": "NNQf0kzf0spW",
        "outputId": "6c2768e2-2e6d-44a5-e632-59516036486a"
      },
      "source": [
        "e.execute(\"\"\"insert into Employees(fio, departmentId) values ('Шишов А.Б.', 1)\"\"\")\n",
        "e.execute(\"\"\"insert into Employees(fio, departmentId) values ('Жуков Б.Г.',1)\"\"\")\n",
        "e.execute(\"\"\"insert into Employees(fio, departmentId) values ('Семенова А.Б.', 2)\"\"\")\n",
        "e.execute(\"\"\"insert into Employees(fio, departmentId) values ('Симонян Б.Г.',2)\"\"\")\n",
        "e.execute(\"\"\"insert into Employees(fio, departmentId) values ('Иванов Иван ИвановиЧ.', 3)\"\"\")\n",
        "e.execute(\"\"\"insert into Employees(fio, departmentId) values ('Петров Петр Иванович', 3)\"\"\")\n",
        "e.execute(\"\"\"insert into Employees(fio, departmentId) values ('Сидоров Семен Иванович.', 3)\"\"\")\n",
        "e.execute(\"\"\"insert into Employees(fio, departmentId) values ('Сергеев Сергей Иванович', 3)\"\"\")\n",
        "e.execute(\"\"\"insert into Employees(fio, departmentId) values ('Ивинов Иван ИвановиЧ.', 3)\"\"\")\n",
        "\n",
        "pd.read_sql_query('SELECT * FROM Employees;', e)"
      ],
      "execution_count": null,
      "outputs": [
        {
          "output_type": "execute_result",
          "data": {
            "text/plain": [
              "   id                      fio  departmentId\n",
              "0   1               Шишов А.Б.             1\n",
              "1   2               Жуков Б.Г.             1\n",
              "2   3            Семенова А.Б.             2\n",
              "3   4             Симонян Б.Г.             2\n",
              "4   5    Иванов Иван ИвановиЧ.             3\n",
              "5   6     Петров Петр Иванович             3\n",
              "6   7  Сидоров Семен Иванович.             3\n",
              "7   8  Сергеев Сергей Иванович             3\n",
              "8   9    Ивинов Иван ИвановиЧ.             3"
            ],
            "text/html": [
              "<div>\n",
              "<style scoped>\n",
              "    .dataframe tbody tr th:only-of-type {\n",
              "        vertical-align: middle;\n",
              "    }\n",
              "\n",
              "    .dataframe tbody tr th {\n",
              "        vertical-align: top;\n",
              "    }\n",
              "\n",
              "    .dataframe thead th {\n",
              "        text-align: right;\n",
              "    }\n",
              "</style>\n",
              "<table border=\"1\" class=\"dataframe\">\n",
              "  <thead>\n",
              "    <tr style=\"text-align: right;\">\n",
              "      <th></th>\n",
              "      <th>id</th>\n",
              "      <th>fio</th>\n",
              "      <th>departmentId</th>\n",
              "    </tr>\n",
              "  </thead>\n",
              "  <tbody>\n",
              "    <tr>\n",
              "      <th>0</th>\n",
              "      <td>1</td>\n",
              "      <td>Шишов А.Б.</td>\n",
              "      <td>1</td>\n",
              "    </tr>\n",
              "    <tr>\n",
              "      <th>1</th>\n",
              "      <td>2</td>\n",
              "      <td>Жуков Б.Г.</td>\n",
              "      <td>1</td>\n",
              "    </tr>\n",
              "    <tr>\n",
              "      <th>2</th>\n",
              "      <td>3</td>\n",
              "      <td>Семенова А.Б.</td>\n",
              "      <td>2</td>\n",
              "    </tr>\n",
              "    <tr>\n",
              "      <th>3</th>\n",
              "      <td>4</td>\n",
              "      <td>Симонян Б.Г.</td>\n",
              "      <td>2</td>\n",
              "    </tr>\n",
              "    <tr>\n",
              "      <th>4</th>\n",
              "      <td>5</td>\n",
              "      <td>Иванов Иван ИвановиЧ.</td>\n",
              "      <td>3</td>\n",
              "    </tr>\n",
              "    <tr>\n",
              "      <th>5</th>\n",
              "      <td>6</td>\n",
              "      <td>Петров Петр Иванович</td>\n",
              "      <td>3</td>\n",
              "    </tr>\n",
              "    <tr>\n",
              "      <th>6</th>\n",
              "      <td>7</td>\n",
              "      <td>Сидоров Семен Иванович.</td>\n",
              "      <td>3</td>\n",
              "    </tr>\n",
              "    <tr>\n",
              "      <th>7</th>\n",
              "      <td>8</td>\n",
              "      <td>Сергеев Сергей Иванович</td>\n",
              "      <td>3</td>\n",
              "    </tr>\n",
              "    <tr>\n",
              "      <th>8</th>\n",
              "      <td>9</td>\n",
              "      <td>Ивинов Иван ИвановиЧ.</td>\n",
              "      <td>3</td>\n",
              "    </tr>\n",
              "  </tbody>\n",
              "</table>\n",
              "</div>"
            ]
          },
          "metadata": {},
          "execution_count": 21
        }
      ]
    },
    {
      "cell_type": "code",
      "metadata": {
        "id": "gdenQXaCq77n"
      },
      "source": [
        "#e.execute(\"\"\"    drop table orders \"\"\")"
      ],
      "execution_count": null,
      "outputs": []
    },
    {
      "cell_type": "code",
      "metadata": {
        "colab": {
          "base_uri": "https://localhost:8080/"
        },
        "id": "UWLg_8OC3YcJ",
        "outputId": "31ada71c-8138-4417-f751-a2278048b73e"
      },
      "source": [
        "e.execute(\"\"\"\n",
        "    create table Orders (\n",
        "        id integer primary key,\n",
        "        number integer,\n",
        "        name varchar,\n",
        "        managerId integer,\n",
        "        customerId integer,\n",
        "        date date\n",
        "    )\n",
        "\"\"\")  "
      ],
      "execution_count": null,
      "outputs": [
        {
          "output_type": "execute_result",
          "data": {
            "text/plain": [
              "<sqlalchemy.engine.result.ResultProxy at 0x7f52d7736610>"
            ]
          },
          "metadata": {},
          "execution_count": 23
        }
      ]
    },
    {
      "cell_type": "code",
      "metadata": {
        "colab": {
          "base_uri": "https://localhost:8080/",
          "height": 204
        },
        "id": "qAXh8NrDpNOp",
        "outputId": "bcc4a06e-a8f4-4fdf-a8b3-805d6d63247a"
      },
      "source": [
        "e.execute(\"\"\"insert into Orders(number,name, managerId, customerId ) values (1001,\"Доставка продуктов\",1,1)\"\"\")\n",
        "e.execute(\"\"\"insert into Orders(number,name, managerId, customerId ) values (1002,\"Доставка Канцтоваров\",1,2)\"\"\")\n",
        "e.execute(\"\"\"insert into Orders(number,name, managerId, customerId ) values (1004,\"Доставка продуктов\",1,3)\"\"\")\n",
        "e.execute(\"\"\"insert into Orders(number,name, managerId, customerId ) values (1005,\"Доставка продуктов\",2,5)\"\"\")\n",
        "e.execute(\"\"\"insert into Orders(number,name, managerId, customerId ) values (1006,\"Доставка товаров\",2,6)\"\"\")\n",
        "pd.read_sql_query('SELECT * FROM Orders;', e)"
      ],
      "execution_count": null,
      "outputs": [
        {
          "output_type": "execute_result",
          "data": {
            "text/plain": [
              "   id  number                  name  managerId  customerId  date\n",
              "0   1    1001    Доставка продуктов          1           1  None\n",
              "1   2    1002  Доставка Канцтоваров          1           2  None\n",
              "2   3    1004    Доставка продуктов          1           3  None\n",
              "3   4    1005    Доставка продуктов          2           5  None\n",
              "4   5    1006      Доставка товаров          2           6  None"
            ],
            "text/html": [
              "<div>\n",
              "<style scoped>\n",
              "    .dataframe tbody tr th:only-of-type {\n",
              "        vertical-align: middle;\n",
              "    }\n",
              "\n",
              "    .dataframe tbody tr th {\n",
              "        vertical-align: top;\n",
              "    }\n",
              "\n",
              "    .dataframe thead th {\n",
              "        text-align: right;\n",
              "    }\n",
              "</style>\n",
              "<table border=\"1\" class=\"dataframe\">\n",
              "  <thead>\n",
              "    <tr style=\"text-align: right;\">\n",
              "      <th></th>\n",
              "      <th>id</th>\n",
              "      <th>number</th>\n",
              "      <th>name</th>\n",
              "      <th>managerId</th>\n",
              "      <th>customerId</th>\n",
              "      <th>date</th>\n",
              "    </tr>\n",
              "  </thead>\n",
              "  <tbody>\n",
              "    <tr>\n",
              "      <th>0</th>\n",
              "      <td>1</td>\n",
              "      <td>1001</td>\n",
              "      <td>Доставка продуктов</td>\n",
              "      <td>1</td>\n",
              "      <td>1</td>\n",
              "      <td>None</td>\n",
              "    </tr>\n",
              "    <tr>\n",
              "      <th>1</th>\n",
              "      <td>2</td>\n",
              "      <td>1002</td>\n",
              "      <td>Доставка Канцтоваров</td>\n",
              "      <td>1</td>\n",
              "      <td>2</td>\n",
              "      <td>None</td>\n",
              "    </tr>\n",
              "    <tr>\n",
              "      <th>2</th>\n",
              "      <td>3</td>\n",
              "      <td>1004</td>\n",
              "      <td>Доставка продуктов</td>\n",
              "      <td>1</td>\n",
              "      <td>3</td>\n",
              "      <td>None</td>\n",
              "    </tr>\n",
              "    <tr>\n",
              "      <th>3</th>\n",
              "      <td>4</td>\n",
              "      <td>1005</td>\n",
              "      <td>Доставка продуктов</td>\n",
              "      <td>2</td>\n",
              "      <td>5</td>\n",
              "      <td>None</td>\n",
              "    </tr>\n",
              "    <tr>\n",
              "      <th>4</th>\n",
              "      <td>5</td>\n",
              "      <td>1006</td>\n",
              "      <td>Доставка товаров</td>\n",
              "      <td>2</td>\n",
              "      <td>6</td>\n",
              "      <td>None</td>\n",
              "    </tr>\n",
              "  </tbody>\n",
              "</table>\n",
              "</div>"
            ]
          },
          "metadata": {},
          "execution_count": 24
        }
      ]
    },
    {
      "cell_type": "code",
      "metadata": {
        "id": "SEYyiIQmkt4X"
      },
      "source": [
        "#e.execute(\"\"\"    drop table Trips \"\"\")"
      ],
      "execution_count": null,
      "outputs": []
    },
    {
      "cell_type": "code",
      "metadata": {
        "colab": {
          "base_uri": "https://localhost:8080/"
        },
        "id": "W0Ia5fqr31WI",
        "outputId": "88df08c5-331d-4abb-ccd5-e861718b74cd"
      },
      "source": [
        "e.execute(\"\"\"\n",
        "  CREATE TABLE Trips (\n",
        "    id integer primary key,\n",
        "    description varchar(255),\n",
        "    destination varchar(255),\n",
        "    managerId integer,\n",
        "    customerId integer,\n",
        "    cargo varchar(255),\n",
        "    price integer\n",
        "  )\n",
        "\"\"\")"
      ],
      "execution_count": null,
      "outputs": [
        {
          "output_type": "execute_result",
          "data": {
            "text/plain": [
              "<sqlalchemy.engine.result.ResultProxy at 0x7f52d7736190>"
            ]
          },
          "metadata": {},
          "execution_count": 25
        }
      ]
    },
    {
      "cell_type": "code",
      "metadata": {
        "colab": {
          "base_uri": "https://localhost:8080/",
          "height": 514
        },
        "id": "y0Emw-4td6aR",
        "outputId": "7262145b-8b55-43e4-d09f-8e50fbc14393"
      },
      "source": [
        "e.execute(\"\"\"insert into Trips(description, destination,managerId, customerId, cargo, price  ) values ('Подвозка',\"ул.Правды 3\",3,1,0.8,3000)\"\"\")\n",
        "e.execute(\"\"\"insert into Trips(description, destination,managerId, customerId, cargo, price  ) values ('Подвозка',\"ул.Советов\", 3,2,1.2,5000)\"\"\")\n",
        "e.execute(\"\"\"insert into Trips(description, destination,managerId, customerId, cargo, price  ) values ('Подвозка',\"ул.Кирова 8\",4,3,0.3,7000)\"\"\")\n",
        "e.execute(\"\"\"insert into Trips(description, destination,managerId, customerId, cargo, price  ) values ('Подвозка',\"ул.Мира 7  \",3,4,0.5,9000)\"\"\")\n",
        "e.execute(\"\"\"insert into Trips(description, destination,managerId, customerId, cargo, price  ) values ('Подвозка',\"ул.Серова 9\",3,5,1.8,5000)\"\"\")\n",
        "e.execute(\"\"\"insert into Trips(description, destination,managerId, customerId, cargo, price  ) values ('Подвозка',\"Анапа\",4,6,1,9000)\"\"\")\n",
        "e.execute(\"\"\"insert into Trips(description, destination,managerId, customerId, cargo, price  ) values ('Подвозка',\"ул.Мира 3\",3,1,4,3000)\"\"\")\n",
        "e.execute(\"\"\"insert into Trips(description, destination,managerId, customerId, cargo, price  ) values ('Подвозка',\"Глебовка\",4,2,2,7000)\"\"\")\n",
        "e.execute(\"\"\"insert into Trips(description, destination,managerId, customerId, cargo, price  ) values ('Подвозка',\"Краснодар\",3,1,0.5,23000)\"\"\")\n",
        "e.execute(\"\"\"insert into Trips(description, destination,managerId, customerId, cargo, price  ) values ('Подвозка',\"Майкоп\",3,3,0.7,33000)\"\"\")\n",
        "e.execute(\"\"\"insert into Trips(description, destination,managerId, customerId, cargo, price  ) values ('Подвозка',\"Анапа\",4,4,0.2,9000)\"\"\")\n",
        "e.execute(\"\"\"insert into Trips(description, destination,managerId, customerId, cargo, price  ) values ('Подвозка',\"Гайдук\",4,5,1.8,11000)\"\"\")\n",
        "e.execute(\"\"\"insert into Trips(description, destination,managerId, customerId, cargo, price  ) values ('Подвозка',\"ул.Мира 7 \",3,6,0.9,6000)\"\"\")\n",
        "e.execute(\"\"\"insert into Trips(description, destination,managerId, customerId, cargo, price  ) values ('Подвозка',\"ул.Правды 3\",4,1,0.6,9000)\"\"\")\n",
        "e.execute(\"\"\"insert into Trips(description, destination,managerId, customerId, cargo, price  ) values ('Подвозка',\"ул.Серова 9\",3,4,0.4,7000)\"\"\")\n",
        "pd.read_sql_query('SELECT * FROM Trips;', e)"
      ],
      "execution_count": null,
      "outputs": [
        {
          "output_type": "execute_result",
          "data": {
            "text/plain": [
              "    id description  destination  managerId  customerId cargo  price\n",
              "0    1    Подвозка  ул.Правды 3          3           1   0.8   3000\n",
              "1    2    Подвозка   ул.Советов          3           2   1.2   5000\n",
              "2    3    Подвозка  ул.Кирова 8          4           3   0.3   7000\n",
              "3    4    Подвозка  ул.Мира 7            3           4   0.5   9000\n",
              "4    5    Подвозка  ул.Серова 9          3           5   1.8   5000\n",
              "5    6    Подвозка        Анапа          4           6     1   9000\n",
              "6    7    Подвозка    ул.Мира 3          3           1     4   3000\n",
              "7    8    Подвозка     Глебовка          4           2     2   7000\n",
              "8    9    Подвозка    Краснодар          3           1   0.5  23000\n",
              "9   10    Подвозка       Майкоп          3           3   0.7  33000\n",
              "10  11    Подвозка        Анапа          4           4   0.2   9000\n",
              "11  12    Подвозка       Гайдук          4           5   1.8  11000\n",
              "12  13    Подвозка   ул.Мира 7           3           6   0.9   6000\n",
              "13  14    Подвозка  ул.Правды 3          4           1   0.6   9000\n",
              "14  15    Подвозка  ул.Серова 9          3           4   0.4   7000"
            ],
            "text/html": [
              "<div>\n",
              "<style scoped>\n",
              "    .dataframe tbody tr th:only-of-type {\n",
              "        vertical-align: middle;\n",
              "    }\n",
              "\n",
              "    .dataframe tbody tr th {\n",
              "        vertical-align: top;\n",
              "    }\n",
              "\n",
              "    .dataframe thead th {\n",
              "        text-align: right;\n",
              "    }\n",
              "</style>\n",
              "<table border=\"1\" class=\"dataframe\">\n",
              "  <thead>\n",
              "    <tr style=\"text-align: right;\">\n",
              "      <th></th>\n",
              "      <th>id</th>\n",
              "      <th>description</th>\n",
              "      <th>destination</th>\n",
              "      <th>managerId</th>\n",
              "      <th>customerId</th>\n",
              "      <th>cargo</th>\n",
              "      <th>price</th>\n",
              "    </tr>\n",
              "  </thead>\n",
              "  <tbody>\n",
              "    <tr>\n",
              "      <th>0</th>\n",
              "      <td>1</td>\n",
              "      <td>Подвозка</td>\n",
              "      <td>ул.Правды 3</td>\n",
              "      <td>3</td>\n",
              "      <td>1</td>\n",
              "      <td>0.8</td>\n",
              "      <td>3000</td>\n",
              "    </tr>\n",
              "    <tr>\n",
              "      <th>1</th>\n",
              "      <td>2</td>\n",
              "      <td>Подвозка</td>\n",
              "      <td>ул.Советов</td>\n",
              "      <td>3</td>\n",
              "      <td>2</td>\n",
              "      <td>1.2</td>\n",
              "      <td>5000</td>\n",
              "    </tr>\n",
              "    <tr>\n",
              "      <th>2</th>\n",
              "      <td>3</td>\n",
              "      <td>Подвозка</td>\n",
              "      <td>ул.Кирова 8</td>\n",
              "      <td>4</td>\n",
              "      <td>3</td>\n",
              "      <td>0.3</td>\n",
              "      <td>7000</td>\n",
              "    </tr>\n",
              "    <tr>\n",
              "      <th>3</th>\n",
              "      <td>4</td>\n",
              "      <td>Подвозка</td>\n",
              "      <td>ул.Мира 7</td>\n",
              "      <td>3</td>\n",
              "      <td>4</td>\n",
              "      <td>0.5</td>\n",
              "      <td>9000</td>\n",
              "    </tr>\n",
              "    <tr>\n",
              "      <th>4</th>\n",
              "      <td>5</td>\n",
              "      <td>Подвозка</td>\n",
              "      <td>ул.Серова 9</td>\n",
              "      <td>3</td>\n",
              "      <td>5</td>\n",
              "      <td>1.8</td>\n",
              "      <td>5000</td>\n",
              "    </tr>\n",
              "    <tr>\n",
              "      <th>5</th>\n",
              "      <td>6</td>\n",
              "      <td>Подвозка</td>\n",
              "      <td>Анапа</td>\n",
              "      <td>4</td>\n",
              "      <td>6</td>\n",
              "      <td>1</td>\n",
              "      <td>9000</td>\n",
              "    </tr>\n",
              "    <tr>\n",
              "      <th>6</th>\n",
              "      <td>7</td>\n",
              "      <td>Подвозка</td>\n",
              "      <td>ул.Мира 3</td>\n",
              "      <td>3</td>\n",
              "      <td>1</td>\n",
              "      <td>4</td>\n",
              "      <td>3000</td>\n",
              "    </tr>\n",
              "    <tr>\n",
              "      <th>7</th>\n",
              "      <td>8</td>\n",
              "      <td>Подвозка</td>\n",
              "      <td>Глебовка</td>\n",
              "      <td>4</td>\n",
              "      <td>2</td>\n",
              "      <td>2</td>\n",
              "      <td>7000</td>\n",
              "    </tr>\n",
              "    <tr>\n",
              "      <th>8</th>\n",
              "      <td>9</td>\n",
              "      <td>Подвозка</td>\n",
              "      <td>Краснодар</td>\n",
              "      <td>3</td>\n",
              "      <td>1</td>\n",
              "      <td>0.5</td>\n",
              "      <td>23000</td>\n",
              "    </tr>\n",
              "    <tr>\n",
              "      <th>9</th>\n",
              "      <td>10</td>\n",
              "      <td>Подвозка</td>\n",
              "      <td>Майкоп</td>\n",
              "      <td>3</td>\n",
              "      <td>3</td>\n",
              "      <td>0.7</td>\n",
              "      <td>33000</td>\n",
              "    </tr>\n",
              "    <tr>\n",
              "      <th>10</th>\n",
              "      <td>11</td>\n",
              "      <td>Подвозка</td>\n",
              "      <td>Анапа</td>\n",
              "      <td>4</td>\n",
              "      <td>4</td>\n",
              "      <td>0.2</td>\n",
              "      <td>9000</td>\n",
              "    </tr>\n",
              "    <tr>\n",
              "      <th>11</th>\n",
              "      <td>12</td>\n",
              "      <td>Подвозка</td>\n",
              "      <td>Гайдук</td>\n",
              "      <td>4</td>\n",
              "      <td>5</td>\n",
              "      <td>1.8</td>\n",
              "      <td>11000</td>\n",
              "    </tr>\n",
              "    <tr>\n",
              "      <th>12</th>\n",
              "      <td>13</td>\n",
              "      <td>Подвозка</td>\n",
              "      <td>ул.Мира 7</td>\n",
              "      <td>3</td>\n",
              "      <td>6</td>\n",
              "      <td>0.9</td>\n",
              "      <td>6000</td>\n",
              "    </tr>\n",
              "    <tr>\n",
              "      <th>13</th>\n",
              "      <td>14</td>\n",
              "      <td>Подвозка</td>\n",
              "      <td>ул.Правды 3</td>\n",
              "      <td>4</td>\n",
              "      <td>1</td>\n",
              "      <td>0.6</td>\n",
              "      <td>9000</td>\n",
              "    </tr>\n",
              "    <tr>\n",
              "      <th>14</th>\n",
              "      <td>15</td>\n",
              "      <td>Подвозка</td>\n",
              "      <td>ул.Серова 9</td>\n",
              "      <td>3</td>\n",
              "      <td>4</td>\n",
              "      <td>0.4</td>\n",
              "      <td>7000</td>\n",
              "    </tr>\n",
              "  </tbody>\n",
              "</table>\n",
              "</div>"
            ]
          },
          "metadata": {},
          "execution_count": 26
        }
      ]
    },
    {
      "cell_type": "markdown",
      "metadata": {
        "id": "fsCdtJ2plRLG"
      },
      "source": [
        "#Отчеты о результатах работы отделов - количество заключенных договоров для отдела маркетинга,  число рейсов, выручка для отдела реализации."
      ]
    },
    {
      "cell_type": "markdown",
      "metadata": {
        "id": "dhvNf441p93H"
      },
      "source": [
        "Отдел маркетинга"
      ]
    },
    {
      "cell_type": "code",
      "metadata": {
        "colab": {
          "base_uri": "https://localhost:8080/",
          "height": 421
        },
        "id": "QfVFEKoGpHLT",
        "outputId": "fabdf13c-56f3-44e6-c0ba-9a10bd21b093"
      },
      "source": [
        "pd.read_sql_query('''SELECT e.fio as \"Менеджер\" ,d.number as \"№ дог.\", d.name as \"Договор\", t.price as \"Выручка\"\n",
        "FROM Employees e, Trips t, Orders d \n",
        "where e.id = d.managerId and d.customerId = t.customerId order by e.fio, d.number   ;''', e)"
      ],
      "execution_count": null,
      "outputs": [
        {
          "output_type": "execute_result",
          "data": {
            "text/plain": [
              "      Менеджер  № дог.               Договор  Выручка\n",
              "0   Жуков Б.Г.    1005    Доставка продуктов     5000\n",
              "1   Жуков Б.Г.    1005    Доставка продуктов    11000\n",
              "2   Жуков Б.Г.    1006      Доставка товаров     6000\n",
              "3   Жуков Б.Г.    1006      Доставка товаров     9000\n",
              "4   Шишов А.Б.    1001    Доставка продуктов     3000\n",
              "5   Шишов А.Б.    1001    Доставка продуктов     3000\n",
              "6   Шишов А.Б.    1001    Доставка продуктов     9000\n",
              "7   Шишов А.Б.    1001    Доставка продуктов    23000\n",
              "8   Шишов А.Б.    1002  Доставка Канцтоваров     5000\n",
              "9   Шишов А.Б.    1002  Доставка Канцтоваров     7000\n",
              "10  Шишов А.Б.    1004    Доставка продуктов     7000\n",
              "11  Шишов А.Б.    1004    Доставка продуктов    33000"
            ],
            "text/html": [
              "<div>\n",
              "<style scoped>\n",
              "    .dataframe tbody tr th:only-of-type {\n",
              "        vertical-align: middle;\n",
              "    }\n",
              "\n",
              "    .dataframe tbody tr th {\n",
              "        vertical-align: top;\n",
              "    }\n",
              "\n",
              "    .dataframe thead th {\n",
              "        text-align: right;\n",
              "    }\n",
              "</style>\n",
              "<table border=\"1\" class=\"dataframe\">\n",
              "  <thead>\n",
              "    <tr style=\"text-align: right;\">\n",
              "      <th></th>\n",
              "      <th>Менеджер</th>\n",
              "      <th>№ дог.</th>\n",
              "      <th>Договор</th>\n",
              "      <th>Выручка</th>\n",
              "    </tr>\n",
              "  </thead>\n",
              "  <tbody>\n",
              "    <tr>\n",
              "      <th>0</th>\n",
              "      <td>Жуков Б.Г.</td>\n",
              "      <td>1005</td>\n",
              "      <td>Доставка продуктов</td>\n",
              "      <td>5000</td>\n",
              "    </tr>\n",
              "    <tr>\n",
              "      <th>1</th>\n",
              "      <td>Жуков Б.Г.</td>\n",
              "      <td>1005</td>\n",
              "      <td>Доставка продуктов</td>\n",
              "      <td>11000</td>\n",
              "    </tr>\n",
              "    <tr>\n",
              "      <th>2</th>\n",
              "      <td>Жуков Б.Г.</td>\n",
              "      <td>1006</td>\n",
              "      <td>Доставка товаров</td>\n",
              "      <td>6000</td>\n",
              "    </tr>\n",
              "    <tr>\n",
              "      <th>3</th>\n",
              "      <td>Жуков Б.Г.</td>\n",
              "      <td>1006</td>\n",
              "      <td>Доставка товаров</td>\n",
              "      <td>9000</td>\n",
              "    </tr>\n",
              "    <tr>\n",
              "      <th>4</th>\n",
              "      <td>Шишов А.Б.</td>\n",
              "      <td>1001</td>\n",
              "      <td>Доставка продуктов</td>\n",
              "      <td>3000</td>\n",
              "    </tr>\n",
              "    <tr>\n",
              "      <th>5</th>\n",
              "      <td>Шишов А.Б.</td>\n",
              "      <td>1001</td>\n",
              "      <td>Доставка продуктов</td>\n",
              "      <td>3000</td>\n",
              "    </tr>\n",
              "    <tr>\n",
              "      <th>6</th>\n",
              "      <td>Шишов А.Б.</td>\n",
              "      <td>1001</td>\n",
              "      <td>Доставка продуктов</td>\n",
              "      <td>9000</td>\n",
              "    </tr>\n",
              "    <tr>\n",
              "      <th>7</th>\n",
              "      <td>Шишов А.Б.</td>\n",
              "      <td>1001</td>\n",
              "      <td>Доставка продуктов</td>\n",
              "      <td>23000</td>\n",
              "    </tr>\n",
              "    <tr>\n",
              "      <th>8</th>\n",
              "      <td>Шишов А.Б.</td>\n",
              "      <td>1002</td>\n",
              "      <td>Доставка Канцтоваров</td>\n",
              "      <td>5000</td>\n",
              "    </tr>\n",
              "    <tr>\n",
              "      <th>9</th>\n",
              "      <td>Шишов А.Б.</td>\n",
              "      <td>1002</td>\n",
              "      <td>Доставка Канцтоваров</td>\n",
              "      <td>7000</td>\n",
              "    </tr>\n",
              "    <tr>\n",
              "      <th>10</th>\n",
              "      <td>Шишов А.Б.</td>\n",
              "      <td>1004</td>\n",
              "      <td>Доставка продуктов</td>\n",
              "      <td>7000</td>\n",
              "    </tr>\n",
              "    <tr>\n",
              "      <th>11</th>\n",
              "      <td>Шишов А.Б.</td>\n",
              "      <td>1004</td>\n",
              "      <td>Доставка продуктов</td>\n",
              "      <td>33000</td>\n",
              "    </tr>\n",
              "  </tbody>\n",
              "</table>\n",
              "</div>"
            ]
          },
          "metadata": {},
          "execution_count": 58
        }
      ]
    },
    {
      "cell_type": "markdown",
      "metadata": {
        "id": "WJYweloOuH-w"
      },
      "source": [
        "Количество заключенных договоров по менеджерам отдела маркетинга"
      ]
    },
    {
      "cell_type": "code",
      "metadata": {
        "colab": {
          "base_uri": "https://localhost:8080/",
          "height": 111
        },
        "id": "vWZiRrs3cX2r",
        "outputId": "a1ff9e15-7c1d-42eb-9f67-c58e08254877"
      },
      "source": [
        "pd.read_sql_query(''' SELECT fio, count(*) as \"Количество договоров\"  \n",
        "FROM (SELECT e.fio, d.* FROM Employees e,  Orders d where e.id = d.managerId )\n",
        "group by managerId ;''', e)"
      ],
      "execution_count": null,
      "outputs": [
        {
          "output_type": "execute_result",
          "data": {
            "text/plain": [
              "          fio  Количество договоров\n",
              "0  Шишов А.Б.                     3\n",
              "1  Жуков Б.Г.                     2"
            ],
            "text/html": [
              "<div>\n",
              "<style scoped>\n",
              "    .dataframe tbody tr th:only-of-type {\n",
              "        vertical-align: middle;\n",
              "    }\n",
              "\n",
              "    .dataframe tbody tr th {\n",
              "        vertical-align: top;\n",
              "    }\n",
              "\n",
              "    .dataframe thead th {\n",
              "        text-align: right;\n",
              "    }\n",
              "</style>\n",
              "<table border=\"1\" class=\"dataframe\">\n",
              "  <thead>\n",
              "    <tr style=\"text-align: right;\">\n",
              "      <th></th>\n",
              "      <th>fio</th>\n",
              "      <th>Количество договоров</th>\n",
              "    </tr>\n",
              "  </thead>\n",
              "  <tbody>\n",
              "    <tr>\n",
              "      <th>0</th>\n",
              "      <td>Шишов А.Б.</td>\n",
              "      <td>3</td>\n",
              "    </tr>\n",
              "    <tr>\n",
              "      <th>1</th>\n",
              "      <td>Жуков Б.Г.</td>\n",
              "      <td>2</td>\n",
              "    </tr>\n",
              "  </tbody>\n",
              "</table>\n",
              "</div>"
            ]
          },
          "metadata": {},
          "execution_count": 63
        }
      ]
    },
    {
      "cell_type": "markdown",
      "metadata": {
        "id": "9RDUpnWsl4U9"
      },
      "source": [
        "Отдел реализации"
      ]
    },
    {
      "cell_type": "code",
      "metadata": {
        "colab": {
          "base_uri": "https://localhost:8080/",
          "height": 514
        },
        "id": "QmT7ZZAIMGxH",
        "outputId": "59823135-9881-4934-f851-ae2e545ae78b"
      },
      "source": [
        "pd.read_sql_query('''SELECT e.fio as \"Менеджер\" , c.name as \"Заказчик\", t.cargo as \"Груз\", t.price as \"Выручка\"\n",
        "FROM Employees e, Trips t, Customers c \n",
        "where e.id = t.managerId and c.id = customerId order by e.fio  ;''', e)"
      ],
      "execution_count": null,
      "outputs": [
        {
          "output_type": "execute_result",
          "data": {
            "text/plain": [
              "         Менеджер         Заказчик Груз  Выручка\n",
              "0   Семенова А.Б.          Блинная  0.8     3000\n",
              "1   Семенова А.Б.  маг. Канцтовары  1.2     5000\n",
              "2   Семенова А.Б.       маг. Пилот  0.5     9000\n",
              "3   Семенова А.Б.       Мороженное  1.8     5000\n",
              "4   Семенова А.Б.          Блинная    4     3000\n",
              "5   Семенова А.Б.          Блинная  0.5    23000\n",
              "6   Семенова А.Б.       Сладкоежка  0.7    33000\n",
              "7   Семенова А.Б.        Оптовичок  0.9     6000\n",
              "8   Семенова А.Б.       маг. Пилот  0.4     7000\n",
              "9    Симонян Б.Г.       Сладкоежка  0.3     7000\n",
              "10   Симонян Б.Г.        Оптовичок    1     9000\n",
              "11   Симонян Б.Г.  маг. Канцтовары    2     7000\n",
              "12   Симонян Б.Г.       маг. Пилот  0.2     9000\n",
              "13   Симонян Б.Г.       Мороженное  1.8    11000\n",
              "14   Симонян Б.Г.          Блинная  0.6     9000"
            ],
            "text/html": [
              "<div>\n",
              "<style scoped>\n",
              "    .dataframe tbody tr th:only-of-type {\n",
              "        vertical-align: middle;\n",
              "    }\n",
              "\n",
              "    .dataframe tbody tr th {\n",
              "        vertical-align: top;\n",
              "    }\n",
              "\n",
              "    .dataframe thead th {\n",
              "        text-align: right;\n",
              "    }\n",
              "</style>\n",
              "<table border=\"1\" class=\"dataframe\">\n",
              "  <thead>\n",
              "    <tr style=\"text-align: right;\">\n",
              "      <th></th>\n",
              "      <th>Менеджер</th>\n",
              "      <th>Заказчик</th>\n",
              "      <th>Груз</th>\n",
              "      <th>Выручка</th>\n",
              "    </tr>\n",
              "  </thead>\n",
              "  <tbody>\n",
              "    <tr>\n",
              "      <th>0</th>\n",
              "      <td>Семенова А.Б.</td>\n",
              "      <td>Блинная</td>\n",
              "      <td>0.8</td>\n",
              "      <td>3000</td>\n",
              "    </tr>\n",
              "    <tr>\n",
              "      <th>1</th>\n",
              "      <td>Семенова А.Б.</td>\n",
              "      <td>маг. Канцтовары</td>\n",
              "      <td>1.2</td>\n",
              "      <td>5000</td>\n",
              "    </tr>\n",
              "    <tr>\n",
              "      <th>2</th>\n",
              "      <td>Семенова А.Б.</td>\n",
              "      <td>маг. Пилот</td>\n",
              "      <td>0.5</td>\n",
              "      <td>9000</td>\n",
              "    </tr>\n",
              "    <tr>\n",
              "      <th>3</th>\n",
              "      <td>Семенова А.Б.</td>\n",
              "      <td>Мороженное</td>\n",
              "      <td>1.8</td>\n",
              "      <td>5000</td>\n",
              "    </tr>\n",
              "    <tr>\n",
              "      <th>4</th>\n",
              "      <td>Семенова А.Б.</td>\n",
              "      <td>Блинная</td>\n",
              "      <td>4</td>\n",
              "      <td>3000</td>\n",
              "    </tr>\n",
              "    <tr>\n",
              "      <th>5</th>\n",
              "      <td>Семенова А.Б.</td>\n",
              "      <td>Блинная</td>\n",
              "      <td>0.5</td>\n",
              "      <td>23000</td>\n",
              "    </tr>\n",
              "    <tr>\n",
              "      <th>6</th>\n",
              "      <td>Семенова А.Б.</td>\n",
              "      <td>Сладкоежка</td>\n",
              "      <td>0.7</td>\n",
              "      <td>33000</td>\n",
              "    </tr>\n",
              "    <tr>\n",
              "      <th>7</th>\n",
              "      <td>Семенова А.Б.</td>\n",
              "      <td>Оптовичок</td>\n",
              "      <td>0.9</td>\n",
              "      <td>6000</td>\n",
              "    </tr>\n",
              "    <tr>\n",
              "      <th>8</th>\n",
              "      <td>Семенова А.Б.</td>\n",
              "      <td>маг. Пилот</td>\n",
              "      <td>0.4</td>\n",
              "      <td>7000</td>\n",
              "    </tr>\n",
              "    <tr>\n",
              "      <th>9</th>\n",
              "      <td>Симонян Б.Г.</td>\n",
              "      <td>Сладкоежка</td>\n",
              "      <td>0.3</td>\n",
              "      <td>7000</td>\n",
              "    </tr>\n",
              "    <tr>\n",
              "      <th>10</th>\n",
              "      <td>Симонян Б.Г.</td>\n",
              "      <td>Оптовичок</td>\n",
              "      <td>1</td>\n",
              "      <td>9000</td>\n",
              "    </tr>\n",
              "    <tr>\n",
              "      <th>11</th>\n",
              "      <td>Симонян Б.Г.</td>\n",
              "      <td>маг. Канцтовары</td>\n",
              "      <td>2</td>\n",
              "      <td>7000</td>\n",
              "    </tr>\n",
              "    <tr>\n",
              "      <th>12</th>\n",
              "      <td>Симонян Б.Г.</td>\n",
              "      <td>маг. Пилот</td>\n",
              "      <td>0.2</td>\n",
              "      <td>9000</td>\n",
              "    </tr>\n",
              "    <tr>\n",
              "      <th>13</th>\n",
              "      <td>Симонян Б.Г.</td>\n",
              "      <td>Мороженное</td>\n",
              "      <td>1.8</td>\n",
              "      <td>11000</td>\n",
              "    </tr>\n",
              "    <tr>\n",
              "      <th>14</th>\n",
              "      <td>Симонян Б.Г.</td>\n",
              "      <td>Блинная</td>\n",
              "      <td>0.6</td>\n",
              "      <td>9000</td>\n",
              "    </tr>\n",
              "  </tbody>\n",
              "</table>\n",
              "</div>"
            ]
          },
          "metadata": {},
          "execution_count": 38
        }
      ]
    },
    {
      "cell_type": "markdown",
      "metadata": {
        "id": "wVJJtq6PvGnl"
      },
      "source": [
        "Выручка и количество перевезенного груза по менеджерам отдела реализации"
      ]
    },
    {
      "cell_type": "code",
      "metadata": {
        "colab": {
          "base_uri": "https://localhost:8080/",
          "height": 111
        },
        "id": "YriudU0PgjPi",
        "outputId": "0f122635-9ec2-43b5-c350-cce08eed26d0"
      },
      "source": [
        "pd.read_sql_query(''' SELECT fio as \"Менеджер\", count(id) as \"Рейсы\", sum(cargo) as \"Грузы\", sum(price) as \"Выручка\"\n",
        "FROM (SELECT e.fio, t.* FROM Employees e,  Trips t where e.id = t.managerId )\n",
        "group by managerId ;''', e)"
      ],
      "execution_count": null,
      "outputs": [
        {
          "output_type": "execute_result",
          "data": {
            "text/plain": [
              "        Менеджер  Рейсы  Грузы  Выручка\n",
              "0  Семенова А.Б.      9   10.8    94000\n",
              "1   Симонян Б.Г.      6    5.9    52000"
            ],
            "text/html": [
              "<div>\n",
              "<style scoped>\n",
              "    .dataframe tbody tr th:only-of-type {\n",
              "        vertical-align: middle;\n",
              "    }\n",
              "\n",
              "    .dataframe tbody tr th {\n",
              "        vertical-align: top;\n",
              "    }\n",
              "\n",
              "    .dataframe thead th {\n",
              "        text-align: right;\n",
              "    }\n",
              "</style>\n",
              "<table border=\"1\" class=\"dataframe\">\n",
              "  <thead>\n",
              "    <tr style=\"text-align: right;\">\n",
              "      <th></th>\n",
              "      <th>Менеджер</th>\n",
              "      <th>Рейсы</th>\n",
              "      <th>Грузы</th>\n",
              "      <th>Выручка</th>\n",
              "    </tr>\n",
              "  </thead>\n",
              "  <tbody>\n",
              "    <tr>\n",
              "      <th>0</th>\n",
              "      <td>Семенова А.Б.</td>\n",
              "      <td>9</td>\n",
              "      <td>10.8</td>\n",
              "      <td>94000</td>\n",
              "    </tr>\n",
              "    <tr>\n",
              "      <th>1</th>\n",
              "      <td>Симонян Б.Г.</td>\n",
              "      <td>6</td>\n",
              "      <td>5.9</td>\n",
              "      <td>52000</td>\n",
              "    </tr>\n",
              "  </tbody>\n",
              "</table>\n",
              "</div>"
            ]
          },
          "metadata": {},
          "execution_count": 74
        }
      ]
    }
  ]
}